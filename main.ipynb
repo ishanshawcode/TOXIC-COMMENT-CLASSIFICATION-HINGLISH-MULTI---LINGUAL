{
 "cells": [
  {
   "cell_type": "code",
   "execution_count": null,
   "metadata": {},
   "outputs": [],
   "source": [
    "import tensorflow as tf\n",
    "import gradio as gr\n",
    "import numpy as np\n",
    "import pandas as pd\n",
    "import pickle\n",
    "from tensorflow.keras.layers import TextVectorization\n",
    "\n",
    "with open(r'E:\\New folder (2)\\PROJECT\\New folder (2)\\data.pkl', 'rb') as f:\n",
    "    data = pickle.load(f)\n",
    "    X = data['X']\n",
    "\n",
    "columns=['id', 'comment_text', 'Toxic', 'Severe_toxic', 'Obscene', 'Threat','Insult', 'Identity_hate']\n",
    "\n",
    "MAX_FEATURES= 200000\n",
    "\n",
    "vectorizer = TextVectorization(max_tokens=MAX_FEATURES,\n",
    "                               output_sequence_length=1800,\n",
    "                               output_mode='int')\n",
    "\n",
    "ab= vectorizer.adapt(X.values)\n",
    "\n",
    "\n",
    "\n",
    "model = tf.keras.models.load_model(r'toxicity.keras')"
   ]
  },
  {
   "cell_type": "code",
   "execution_count": null,
   "metadata": {},
   "outputs": [],
   "source": [
    "from deep_translator import GoogleTranslator\n",
    "\n",
    "def translatetoenglish(text):\n",
    "    \n",
    "    #hindi_text = GoogleTranslator(source='english', target='hindi').translate(text)\n",
    "    hindi_text = GoogleTranslator(source='hindi', target='english').translate(text)\n",
    "\n",
    "    return hindi_text"
   ]
  },
  {
   "cell_type": "code",
   "execution_count": null,
   "metadata": {},
   "outputs": [],
   "source": [
    "def score_comment(comment):\n",
    "    commen = translatetoenglish(comment)\n",
    "    vectorized_comment = vectorizer([commen])\n",
    "    results = model.predict(vectorized_comment)\n",
    "    \n",
    "    text = ''\n",
    "    for idx, col in enumerate(columns[2:]):\n",
    "        text += '{}: {}\\n'.format(col, results[0][idx]>0.5)\n",
    "    \n",
    "    return text"
   ]
  },
  {
   "cell_type": "code",
   "execution_count": null,
   "metadata": {},
   "outputs": [],
   "source": [
    "interface = gr.Interface(fn=score_comment, \n",
    "                         inputs=gr.Textbox(lines=2, placeholder='Comment '),\n",
    "                        outputs='text')\n",
    "\n",
    "interface.launch(share=True)"
   ]
  },
  {
   "cell_type": "markdown",
   "metadata": {},
   "source": []
  }
 ],
 "metadata": {
  "kernelspec": {
   "display_name": "Python 3",
   "language": "python",
   "name": "python3"
  },
  "language_info": {
   "codemirror_mode": {
    "name": "ipython",
    "version": 3
   },
   "file_extension": ".py",
   "mimetype": "text/x-python",
   "name": "python",
   "nbconvert_exporter": "python",
   "pygments_lexer": "ipython3",
   "version": "3.11.0"
  }
 },
 "nbformat": 4,
 "nbformat_minor": 2
}
