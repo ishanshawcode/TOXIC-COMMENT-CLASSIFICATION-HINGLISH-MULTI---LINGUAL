{
 "cells": [
  {
   "cell_type": "code",
   "execution_count": null,
   "id": "1681e900",
   "metadata": {},
   "outputs": [],
   "source": [
    "import tensorflow as tf\n",
    "from tensorflow.keras.models import Sequential\n",
    "from tensorflow.keras.layers import Embedding, Bidirectional, LSTM, Dense\n",
    "from tensorflow.keras.optimizers import Adam\n",
    "\n",
    "# Use same hyperparameters as in training\n",
    "MAX_FEATURES = 200000  # or whatever was used during training\n",
    "SEQUENCE_LENGTH = 1800  # must match your vectorizer's output\n",
    "\n",
    "# Rebuild the exact model\n",
    "model = Sequential([\n",
    "    Embedding(input_dim=MAX_FEATURES + 1, output_dim=32, input_length=SEQUENCE_LENGTH),\n",
    "    Bidirectional(LSTM(32, activation='tanh')),\n",
    "    Dense(128, activation='relu'),\n",
    "    Dense(256, activation='relu'),\n",
    "    Dense(128, activation='relu'),\n",
    "    Dense(6, activation='sigmoid')\n",
    "])\n",
    "\n",
    "# Build model (forces weight shapes to initialize)\n",
    "model.build(input_shape=(None, SEQUENCE_LENGTH))\n",
    "\n",
    "# Compile same as training (important for consistent output behavior)\n",
    "#model.compile(loss='binary_crossentropy',optimizer=Adam(),metrics=['accuracy'])\n",
    "\n",
    "# Load weights from .h5 file\n",
    "model.load_weights(r'toxicity.h5')\n",
    "\n",
    "print(\" Weights loaded successfully using load_weights()\")"
   ]
  },
  {
   "cell_type": "code",
   "execution_count": null,
   "id": "e75f7763",
   "metadata": {},
   "outputs": [],
   "source": [
    "model.save('toxicity.keras')"
   ]
  }
 ],
 "metadata": {
  "language_info": {
   "name": "python"
  }
 },
 "nbformat": 4,
 "nbformat_minor": 5
}
