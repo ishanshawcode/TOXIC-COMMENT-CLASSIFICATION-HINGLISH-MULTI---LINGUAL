{
 "cells": [
  {
   "cell_type": "markdown",
   "metadata": {},
   "source": [
    "TRANSLITERATE"
   ]
  },
  {
   "cell_type": "code",
   "execution_count": null,
   "metadata": {},
   "outputs": [
    {
     "data": {
      "text/plain": [
       "'आपा नाम क्या है'"
      ]
     },
     "execution_count": 8,
     "metadata": {},
     "output_type": "execute_result"
    }
   ],
   "source": [
    "from deep_translator import GoogleTranslator\n",
    "\n",
    "def translatetoenglish(text):\n",
    "    \n",
    "    hindi_text = GoogleTranslator(source='english', target='hindi').translate(text)\n",
    "\n",
    "    return hindi_text\n",
    "\n",
    "translatetoenglish(' aapka naam kya hain ')"
   ]
  },
  {
   "cell_type": "markdown",
   "metadata": {},
   "source": [
    "DIRECT TRANSLATE LESS EFFECTIVE"
   ]
  },
  {
   "cell_type": "code",
   "execution_count": 18,
   "metadata": {},
   "outputs": [
    {
     "data": {
      "text/plain": [
       "'What is your name'"
      ]
     },
     "execution_count": 18,
     "metadata": {},
     "output_type": "execute_result"
    }
   ],
   "source": [
    "from deep_translator import GoogleTranslator\n",
    "\n",
    "def translatetoenglish(text):\n",
    "    \n",
    "    hindi_text = GoogleTranslator(source='english', target='hindi').translate(text)\n",
    "    hindi_text = GoogleTranslator(source='hindi', target='english').translate(hindi_text)\n",
    "\n",
    "    return hindi_text\n",
    "\n",
    "translatetoenglish('aapka naam kya hain')"
   ]
  },
  {
   "cell_type": "markdown",
   "metadata": {},
   "source": []
  }
 ],
 "metadata": {
  "kernelspec": {
   "display_name": "Python 3",
   "language": "python",
   "name": "python3"
  },
  "language_info": {
   "codemirror_mode": {
    "name": "ipython",
    "version": 3
   },
   "file_extension": ".py",
   "mimetype": "text/x-python",
   "name": "python",
   "nbconvert_exporter": "python",
   "pygments_lexer": "ipython3",
   "version": "3.11.0"
  }
 },
 "nbformat": 4,
 "nbformat_minor": 2
}
